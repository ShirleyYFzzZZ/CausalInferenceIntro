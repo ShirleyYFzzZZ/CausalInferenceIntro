{
 "cells": [
  {
   "cell_type": "markdown",
   "metadata": {},
   "source": [
    "# 第一章：因果关系入门"
   ]
  },
  {
   "cell_type": "markdown",
   "metadata": {},
   "source": [
    "为了超越简单的直觉，让我们首先建立一些符号。 这将是我们谈论因果关系的共同语言。 把它想象成我们将用来识别其他勇敢和真正的因果战士的通用语言，它将在未来的许多战斗中组成我们的呼声。\n",
    "\n",
    "用 \\\\(T_i\\\\) 表达单元i的干预介入量（treatment intake）. \n",
    "\n",
    "$\n",
    "T_i=\\begin{cases}\n",
    "1 \\ \\text{if unit i received the treatment}\\\\\n",
    "0 \\ \\text{otherwise}\\\\\n",
    "\\end{cases}\n",
    "$\n",
    "\n",
    "为了解决这个问题，我们将在**潜在结果**方面进行很多讨论。它们被成为潜在的结果是因为它们实际上并没有发生。相反，它们表示在采取某些干预的情况下**会发生什么**。我们有时将发生的潜在结果称为事实，而将未发生的潜在结果称为反事实。\n",
    "\n",
    "至于符号，我们使用了一个额外的下标：\n",
    "\n",
    "\\\\(Y_{0i}\\\\) 是未经处理的单元 i 的潜在结果。\n",
    "\n",
    "\\\\(Y_{1i}\\\\) 是**相同**单元 i 的潜在结果。"
   ]
  }
 ],
 "metadata": {
  "kernelspec": {
   "display_name": "Python 3.7.4 ('base')",
   "language": "python",
   "name": "python3"
  },
  "language_info": {
   "codemirror_mode": {
    "name": "ipython",
    "version": 3
   },
   "file_extension": ".py",
   "mimetype": "text/x-python",
   "name": "python",
   "nbconvert_exporter": "python",
   "pygments_lexer": "ipython3",
   "version": "3.7.4"
  },
  "orig_nbformat": 4,
  "vscode": {
   "interpreter": {
    "hash": "b09ec625f77bf4fd762565a912b97636504ad6ec901eb2d0f4cf5a7de23e1ee5"
   }
  }
 },
 "nbformat": 4,
 "nbformat_minor": 2
}
